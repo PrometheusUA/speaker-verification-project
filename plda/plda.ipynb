{
 "cells": [
  {
   "cell_type": "markdown",
   "metadata": {},
   "source": [
    "## Probabilisitic Linear Discriminant Analysis (PLDA) applied to x-vector embeddings"
   ]
  },
  {
   "cell_type": "markdown",
   "metadata": {},
   "source": [
    "In our numerical implementation, we'll use an opensource [speechbrain](https://speechbrain.readthedocs.io/en/latest/API/speechbrain.processing.PLDA_LDA.html#speechbrain.processing.PLDA_LDA.Ndx) library for PLDA, sklearn for PCA and methods from numpy, scipy for efficient handling of calculations. "
   ]
  },
  {
   "cell_type": "markdown",
   "metadata": {},
   "source": [
    "## X-vector embeddings"
   ]
  },
  {
   "cell_type": "markdown",
   "metadata": {},
   "source": [
    "### 1. Import libraries and load the data."
   ]
  },
  {
   "cell_type": "code",
   "execution_count": 2,
   "metadata": {},
   "outputs": [],
   "source": [
    "import pandas as pd\n",
    "import numpy as np\n",
    "from speechbrain.processing.PLDA_LDA import PLDA, StatObject_SB\n",
    "\n",
    "xv_df = pd.read_csv('embeddings/x_vector_embeddings.csv', low_memory=False)\n",
    "veri_test = pd.read_csv('embeddings/veri_test.txt', sep=' ', header=None, names=['label', 'enroll_id', 'test_id'])"
   ]
  },
  {
   "cell_type": "markdown",
   "metadata": {},
   "source": [
    "### 2. Split train and test data."
   ]
  },
  {
   "cell_type": "code",
   "execution_count": 3,
   "metadata": {},
   "outputs": [],
   "source": [
    "embedding_map = {row['file_id']: row.iloc[1:].values for _, row in xv_df.iterrows()}\n",
    "veri_test_speaker_ids = set(veri_test['enroll_id'].apply(lambda x: x.split('/')[0])) \\\n",
    "                        .union(set(veri_test['test_id'].apply(lambda x: x.split('/')[0])))"
   ]
  },
  {
   "cell_type": "code",
   "execution_count": 4,
   "metadata": {},
   "outputs": [],
   "source": [
    "from helpers import partition_speaker_ids, get_speechbrain_sets\n",
    "\n",
    "train_embeddings, train_speaker_ids = partition_speaker_ids(embedding_map, veri_test_speaker_ids)\n",
    "modelset, segset = get_speechbrain_sets(embedding_map, train_speaker_ids)\n",
    "\n",
    "#Sanity checks\n",
    "assert len(modelset) == len(train_embeddings) and len(segset) == len(train_embeddings)"
   ]
  },
  {
   "cell_type": "markdown",
   "metadata": {},
   "source": [
    "### 3. Perform PCA.\n",
    "\n",
    "Even though PLDA is a dimensionality reduction technique by itself, combining it with Principal Component Analysis makes the model even more robust. This is because:\n",
    "\n",
    "1. Linear Discriminant Analysis (LDA) is a more complex technique that, apart from simply reducing dimensinality of the data, maximises between-class and within-class covariances ($S_b$ and $S_w$). Moreover, Probabilistic variations of LDA can generate data classes centers using funcitions of different complexities, including those that are non-linear. This all can significantly impact the speed of calculations. So we chose not to perform those on $512$-dimensional data. \n",
    "\n",
    "2. Before even training the model, PCA can extract more meaningful chunks of data for us by keeping only those dimensions that represent highly variable chunks of data. As a result, we train PLDA model on less amount of noise and more concentrated data."
   ]
  },
  {
   "cell_type": "code",
   "execution_count": 5,
   "metadata": {},
   "outputs": [
    {
     "name": "stdout",
     "output_type": "stream",
     "text": [
      "PCA reduced training data to 40 dimensions.\n"
     ]
    }
   ],
   "source": [
    "from sklearn.decomposition import PCA\n",
    "\n",
    "pca = PCA(n_components=0.8)\n",
    "pca.fit(train_embeddings)\n",
    "train_trans_embs = pca.transform(train_embeddings)\n",
    "\n",
    "ndim = train_trans_embs[0].shape[0]\n",
    "print(f'PCA reduced training data to {ndim} dimensions.')"
   ]
  },
  {
   "cell_type": "markdown",
   "metadata": {},
   "source": [
    "As we see, by keeping only $80\\%$ of explained variance, we managed to greatly reduce our train dataset from $512$ to $40$ dimensions."
   ]
  },
  {
   "cell_type": "markdown",
   "metadata": {},
   "source": [
    "### 4. Training of PLDA model.\n",
    "\n",
    "The speechbrain implementation of PLDA training estimates the main model parameters  $\\mu$, $\\Phi$ and $\\Sigma$ using the Expectation-Maximization (EM) algorithm:\n",
    "\n",
    "1. First we initialise $\\mu$ and $\\Sigma$ using the empirical mean and covariance of the training embeddings. $\\Phi$ is initialised using eigendecomposition.\n",
    "\n",
    "2. Then we estimate the posterior distribution of the speaker identity varialbe given the observed embeddings and the current estimates of the PLDA parameters (E-step).\n",
    "\n",
    "3. Update the parameters $\\Phi$ and $\\Sigma$ using the estimated posterior distribution from E-step.\n",
    "\n",
    "4. Repeat steps 2 and 3 until convergence."
   ]
  },
  {
   "cell_type": "code",
   "execution_count": 6,
   "metadata": {},
   "outputs": [],
   "source": [
    "stat0 = np.array([[1.0]] * len(train_trans_embs))\n",
    "stat1 = train_trans_embs.astype(np.float64)  \n",
    "\n",
    "xvectors_stat = StatObject_SB(modelset=modelset, segset=segset, start=None, stop=None, stat0=stat0, stat1=stat1)\n",
    "\n",
    "plda = PLDA(rank_f=ndim)\n",
    "plda.plda(xvectors_stat)\n",
    "\n",
    "np.savez('models/xv-plda.npz', mean=plda.mean, F=plda.F, Sigma=plda.Sigma)"
   ]
  },
  {
   "cell_type": "markdown",
   "metadata": {},
   "source": [
    "### 5. Subsetting enroll and test data and reducing their dimensions.\n",
    "\n",
    "Here we apply the same PCA transformation to the enroll and test data as we did to the train data."
   ]
  },
  {
   "cell_type": "code",
   "execution_count": 7,
   "metadata": {},
   "outputs": [],
   "source": [
    "en_embeddings = np.array([embedding_map.get(enroll_id) for enroll_id in veri_test['enroll_id']])\n",
    "te_embeddings = np.array([embedding_map.get(test_id) for test_id in veri_test['test_id']])\n",
    "\n",
    "en_embeddings, te_embeddings = pca.transform(en_embeddings), pca.transform(te_embeddings)"
   ]
  },
  {
   "cell_type": "markdown",
   "metadata": {},
   "source": [
    "### 6. Scoring for enroll and test data."
   ]
  },
  {
   "cell_type": "code",
   "execution_count": 8,
   "metadata": {},
   "outputs": [],
   "source": [
    "from scipy.spatial.distance import mahalanobis\n",
    "from sklearn.metrics import roc_curve, confusion_matrix, ConfusionMatrixDisplay\n",
    "from tqdm import tqdm\n",
    "import matplotlib.pyplot as plt\n",
    "from scipy.stats import multivariate_normal\n",
    "\n",
    "def log_likelyhood_score(enrollment_embeddings, test_embeddings, mu, F, Sigma):\n",
    "\n",
    "    inv_Sigma = np.linalg.inv(Sigma)\n",
    "    inv_phi = np.linalg.inv(F.T @ inv_Sigma @ F + np.eye(F.shape[1]))\n",
    "    scores = []\n",
    "\n",
    "    for enroll_emb, test_emb in zip(enrollment_embeddings, test_embeddings):\n",
    "        enroll_emb_cent = enroll_emb - mu\n",
    "        test_emb_cent = test_emb - mu\n",
    "        \n",
    "        v1 = inv_Sigma @ enroll_emb_cent\n",
    "        v2 = inv_Sigma @ test_emb_cent\n",
    "\n",
    "        t1 = v1.T @ inv_phi @ F.T @ v2\n",
    "        t2 = v1.T @ inv_phi @ v1 / 2\n",
    "        t3 = v2.T @ inv_phi @ v2 / 2\n",
    "        \n",
    "        score = t1 - t2 - t3\n",
    "        scores.append(score)\n",
    "    \n",
    "    return np.array(scores)\n",
    "\n",
    "def compute_eer(y_true, y_scores):\n",
    "    fpr, tpr, thresholds = roc_curve(y_true, y_scores)\n",
    "    eer_threshold = thresholds[np.nanargmin(np.absolute((1 - tpr) - fpr))]\n",
    "    eer = fpr[np.nanargmin(np.absolute((1 - tpr) - fpr))]\n",
    "    return eer, eer_threshold"
   ]
  },
  {
   "cell_type": "code",
   "execution_count": 9,
   "metadata": {},
   "outputs": [],
   "source": [
    "plda_params = np.load('models/xv-plda.npz')\n",
    "mean = plda_params['mean']\n",
    "Sigma = plda_params['Sigma']\n",
    "F = plda_params['F']"
   ]
  },
  {
   "cell_type": "code",
   "execution_count": 10,
   "metadata": {},
   "outputs": [
    {
     "data": {
      "image/png": "[encoded data removed]",
      "text/plain": [
       "<Figure size 640x480 with 2 Axes>"
      ]
     },
     "metadata": {},
     "output_type": "display_data"
    }
   ],
   "source": [
    "scores = log_likelyhood_score(en_embeddings, te_embeddings, mean, F, Sigma)\n",
    "labels = veri_test['label'].values\n",
    "\n",
    "eer, threshold = compute_eer(labels, scores)\n",
    "predicted_labels = (scores > threshold).astype(int)\n",
    "conf_matrix = confusion_matrix(labels, predicted_labels)\n",
    "\n",
    "disp = ConfusionMatrixDisplay(conf_matrix)\n",
    "disp.plot()\n",
    "plt.title(f'Confusion Matrix\\nEER: {eer:.2%}, Threshold: {threshold:.2f}')\n",
    "plt.show()"
   ]
  },
  {
   "cell_type": "markdown",
   "metadata": {},
   "source": [
    "## Spectrogram embeddings"
   ]
  }
 ],
 "metadata": {
  "kernelspec": {
   "display_name": ".venv",
   "language": "python",
   "name": "python3"
  },
  "language_info": {
   "codemirror_mode": {
    "name": "ipython",
    "version": 3
   },
   "file_extension": ".py",
   "mimetype": "text/x-python",
   "name": "python",
   "nbconvert_exporter": "python",
   "pygments_lexer": "ipython3",
   "version": "3.11.4"
  },
  "orig_nbformat": 4
 },
 "nbformat": 4,
 "nbformat_minor": 2
}
