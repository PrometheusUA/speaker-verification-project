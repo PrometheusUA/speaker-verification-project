{
 "cells": [
  {
   "cell_type": "code",
   "execution_count": 1,
   "metadata": {},
   "outputs": [
    {
     "name": "stdout",
     "output_type": "stream",
     "text": [
      "Requirement already satisfied: torchaudio in /home/ashevtsov/speaker-verification-project/.venv/lib/python3.10/site-packages (2.2.1+cu118)\n",
      "Requirement already satisfied: torch==2.2.1 in /home/ashevtsov/speaker-verification-project/.venv/lib/python3.10/site-packages (from torchaudio) (2.2.1+cu118)\n",
      "Requirement already satisfied: filelock in /home/ashevtsov/speaker-verification-project/.venv/lib/python3.10/site-packages (from torch==2.2.1->torchaudio) (3.13.1)\n",
      "Requirement already satisfied: typing-extensions>=4.8.0 in /home/ashevtsov/speaker-verification-project/.venv/lib/python3.10/site-packages (from torch==2.2.1->torchaudio) (4.10.0)\n",
      "Requirement already satisfied: nvidia-cusolver-cu11==11.4.1.48 in /home/ashevtsov/speaker-verification-project/.venv/lib/python3.10/site-packages (from torch==2.2.1->torchaudio) (11.4.1.48)\n",
      "Requirement already satisfied: jinja2 in /home/ashevtsov/speaker-verification-project/.venv/lib/python3.10/site-packages (from torch==2.2.1->torchaudio) (3.1.3)\n",
      "Requirement already satisfied: nvidia-cudnn-cu11==8.7.0.84 in /home/ashevtsov/speaker-verification-project/.venv/lib/python3.10/site-packages (from torch==2.2.1->torchaudio) (8.7.0.84)\n",
      "Requirement already satisfied: triton==2.2.0 in /home/ashevtsov/speaker-verification-project/.venv/lib/python3.10/site-packages (from torch==2.2.1->torchaudio) (2.2.0)\n",
      "Requirement already satisfied: fsspec in /home/ashevtsov/speaker-verification-project/.venv/lib/python3.10/site-packages (from torch==2.2.1->torchaudio) (2024.3.0)\n",
      "Requirement already satisfied: nvidia-curand-cu11==10.3.0.86 in /home/ashevtsov/speaker-verification-project/.venv/lib/python3.10/site-packages (from torch==2.2.1->torchaudio) (10.3.0.86)\n",
      "Requirement already satisfied: nvidia-cusparse-cu11==11.7.5.86 in /home/ashevtsov/speaker-verification-project/.venv/lib/python3.10/site-packages (from torch==2.2.1->torchaudio) (11.7.5.86)\n",
      "Requirement already satisfied: nvidia-cublas-cu11==11.11.3.6 in /home/ashevtsov/speaker-verification-project/.venv/lib/python3.10/site-packages (from torch==2.2.1->torchaudio) (11.11.3.6)\n",
      "Requirement already satisfied: networkx in /home/ashevtsov/speaker-verification-project/.venv/lib/python3.10/site-packages (from torch==2.2.1->torchaudio) (3.2.1)\n",
      "Requirement already satisfied: sympy in /home/ashevtsov/speaker-verification-project/.venv/lib/python3.10/site-packages (from torch==2.2.1->torchaudio) (1.12)\n",
      "Requirement already satisfied: nvidia-cuda-runtime-cu11==11.8.89 in /home/ashevtsov/speaker-verification-project/.venv/lib/python3.10/site-packages (from torch==2.2.1->torchaudio) (11.8.89)\n",
      "Requirement already satisfied: nvidia-nccl-cu11==2.19.3 in /home/ashevtsov/speaker-verification-project/.venv/lib/python3.10/site-packages (from torch==2.2.1->torchaudio) (2.19.3)\n",
      "Requirement already satisfied: nvidia-cuda-nvrtc-cu11==11.8.89 in /home/ashevtsov/speaker-verification-project/.venv/lib/python3.10/site-packages (from torch==2.2.1->torchaudio) (11.8.89)\n",
      "Requirement already satisfied: nvidia-cuda-cupti-cu11==11.8.87 in /home/ashevtsov/speaker-verification-project/.venv/lib/python3.10/site-packages (from torch==2.2.1->torchaudio) (11.8.87)\n",
      "Requirement already satisfied: nvidia-cufft-cu11==10.9.0.58 in /home/ashevtsov/speaker-verification-project/.venv/lib/python3.10/site-packages (from torch==2.2.1->torchaudio) (10.9.0.58)\n",
      "Requirement already satisfied: nvidia-nvtx-cu11==11.8.86 in /home/ashevtsov/speaker-verification-project/.venv/lib/python3.10/site-packages (from torch==2.2.1->torchaudio) (11.8.86)\n",
      "Requirement already satisfied: MarkupSafe>=2.0 in /home/ashevtsov/speaker-verification-project/.venv/lib/python3.10/site-packages (from jinja2->torch==2.2.1->torchaudio) (2.1.5)\n",
      "Requirement already satisfied: mpmath>=0.19 in /home/ashevtsov/speaker-verification-project/.venv/lib/python3.10/site-packages (from sympy->torch==2.2.1->torchaudio) (1.3.0)\n"
     ]
    }
   ],
   "source": [
    "!pip install torchaudio"
   ]
  },
  {
   "cell_type": "code",
   "execution_count": 2,
   "metadata": {},
   "outputs": [],
   "source": [
    "from torchaudio.datasets import VoxCeleb1Verification"
   ]
  },
  {
   "cell_type": "code",
   "execution_count": 4,
   "metadata": {},
   "outputs": [
    {
     "name": "stderr",
     "output_type": "stream",
     "text": [
      "100%|██████████| 10.0G/10.0G [1:19:34<00:00, 2.25MB/s] \n",
      "100%|██████████| 10.0G/10.0G [1:22:25<00:00, 2.17MB/s]\n",
      "100%|██████████| 10.0G/10.0G [1:24:43<00:00, 2.11MB/s] \n",
      "100%|██████████| 367M/367M [04:15<00:00, 1.50MB/s] \n",
      "100%|██████████| 1.00G/1.00G [07:46<00:00, 2.30MB/s]\n",
      "100%|██████████| 2.23M/2.23M [00:01<00:00, 2.19MB/s]\n"
     ]
    }
   ],
   "source": [
    "dataset = VoxCeleb1Verification('../data', download=True)"
   ]
  },
  {
   "cell_type": "code",
   "execution_count": null,
   "metadata": {},
   "outputs": [],
   "source": []
  }
 ],
 "metadata": {
  "kernelspec": {
   "display_name": ".venv",
   "language": "python",
   "name": "python3"
  },
  "language_info": {
   "codemirror_mode": {
    "name": "ipython",
    "version": 3
   },
   "file_extension": ".py",
   "mimetype": "text/x-python",
   "name": "python",
   "nbconvert_exporter": "python",
   "pygments_lexer": "ipython3",
   "version": "3.10.12"
  }
 },
 "nbformat": 4,
 "nbformat_minor": 2
}
