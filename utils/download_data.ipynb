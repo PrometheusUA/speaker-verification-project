{
 "cells": [
  {
   "cell_type": "code",
   "execution_count": 5,
   "metadata": {},
   "outputs": [],
   "source": [
    "!pip install torchaudio"
   ]
  },
  {
   "cell_type": "code",
   "execution_count": 2,
   "metadata": {},
   "outputs": [],
   "source": [
    "from torchaudio.datasets import VoxCeleb1Verification"
   ]
  },
  {
   "cell_type": "code",
   "execution_count": 4,
   "metadata": {},
   "outputs": [
    {
     "name": "stderr",
     "output_type": "stream",
     "text": [
      "100%|██████████| 10.0G/10.0G [45:04<00:00, 3.97MB/s]  \n",
      "100%|██████████| 10.0G/10.0G [42:38<00:00, 4.20MB/s]  \n",
      "100%|██████████| 10.0G/10.0G [43:10<00:00, 4.15MB/s]  \n",
      "100%|██████████| 367M/367M [01:36<00:00, 3.97MB/s] \n",
      "100%|██████████| 1.00G/1.00G [04:12<00:00, 4.25MB/s]\n",
      "100%|██████████| 2.23M/2.23M [00:01<00:00, 1.88MB/s]\n"
     ]
    }
   ],
   "source": [
    "dataset = VoxCeleb1Verification('../data', download=True)"
   ]
  },
  {
   "cell_type": "code",
   "execution_count": null,
   "metadata": {},
   "outputs": [],
   "source": []
  }
 ],
 "metadata": {
  "kernelspec": {
   "display_name": ".venv",
   "language": "python",
   "name": "python3"
  },
  "language_info": {
   "codemirror_mode": {
    "name": "ipython",
    "version": 3
   },
   "file_extension": ".py",
   "mimetype": "text/x-python",
   "name": "python",
   "nbconvert_exporter": "python",
   "pygments_lexer": "ipython3",
   "version": "3.11.4"
  }
 },
 "nbformat": 4,
 "nbformat_minor": 2
}
