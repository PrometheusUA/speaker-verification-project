{
 "cells": [
  {
   "cell_type": "markdown",
   "metadata": {},
   "source": [
    "# Siamese CNN training for speaker verification\n",
    "\n",
    "## Imports and constants"
   ]
  },
  {
   "cell_type": "code",
   "execution_count": 1,
   "metadata": {},
   "outputs": [
    {
     "name": "stderr",
     "output_type": "stream",
     "text": [
      "/home/ashevtsov/speaker-verification-project/.venv/lib/python3.10/site-packages/tqdm/auto.py:21: TqdmWarning: IProgress not found. Please update jupyter and ipywidgets. See https://ipywidgets.readthedocs.io/en/stable/user_install.html\n",
      "  from .autonotebook import tqdm as notebook_tqdm\n"
     ]
    }
   ],
   "source": [
    "import os\n",
    "import glob\n",
    "\n",
    "import torch\n",
    "import torchaudio\n",
    "import h5py\n",
    "import numpy as np\n",
    "import pandas as pd\n",
    "import matplotlib.pyplot as plt\n",
    "import timm\n",
    "import gc\n",
    "\n",
    "from torchaudio.datasets import VoxCeleb1Verification\n",
    "from tqdm import tqdm\n",
    "from torch import nn\n",
    "from sklearn.metrics import accuracy_score, precision_score, recall_score, f1_score, roc_curve, roc_auc_score, confusion_matrix, ConfusionMatrixDisplay\n",
    "from IPython.display import display, Audio\n",
    "import torch.nn.functional as F\n",
    "from torch.cuda import empty_cache\n",
    "from torchvision.transforms import Compose"
   ]
  },
  {
   "cell_type": "code",
   "execution_count": 2,
   "metadata": {},
   "outputs": [],
   "source": [
    "MODEL_SAVE_PATH = './models/efficientnet_1.0.9_augm.pt'\n",
    "MODEL_HEAD_SAVE_PATH = './models/head_efficientnet_1.0.9_augm.pt'\n",
    "\n",
    "EMBEDDING_DIM = 256\n",
    "MAX_LENGTH = 240_000\n",
    "POS_WEIGHT = 4.0\n",
    "TRIPLET_LOSS_FRAC = 0.3\n",
    "\n",
    "BATCH_SIZE = 32\n",
    "CLASS_BATCH_SIZE = 6\n",
    "EPOCHS = 2\n",
    "EVAL_EVERY_STEPS = 150\n",
    "\n",
    "DEVICE = torch.device('cuda:1') if torch.cuda.is_available() else torch.device('cpu')"
   ]
  },
  {
   "cell_type": "markdown",
   "metadata": {},
   "source": [
    "## Data preparation"
   ]
  },
  {
   "cell_type": "code",
   "execution_count": 3,
   "metadata": {},
   "outputs": [],
   "source": [
    "test_dataset = VoxCeleb1Verification('../data', download=False)"
   ]
  },
  {
   "cell_type": "markdown",
   "metadata": {},
   "source": [
    "### Data split\n",
    "\n",
    "We need to split data in the clever way, leaving some speakers for validation, and not using them as well as some speakers from pre-defined test."
   ]
  },
  {
   "cell_type": "code",
   "execution_count": 4,
   "metadata": {},
   "outputs": [],
   "source": [
    "# occs = dict()\n",
    "# for _, _, _, _, f1, f2 in tqdm(test_dataset):\n",
    "#     id1 = f1.split('-')[0]\n",
    "#     id2 = f2.split('-')[0]\n",
    "#     if id1 not in occs:\n",
    "#         occs[id1] = 0\n",
    "#     if id2 not in occs:\n",
    "#         occs[id2] = 0\n",
    "#     occs[id1] += 1\n",
    "#     occs[id2] += 1"
   ]
  },
  {
   "cell_type": "markdown",
   "metadata": {},
   "source": [
    "Speakers who are used in test:"
   ]
  },
  {
   "cell_type": "code",
   "execution_count": 5,
   "metadata": {},
   "outputs": [],
   "source": [
    "# len(occs.keys())"
   ]
  },
  {
   "cell_type": "code",
   "execution_count": 6,
   "metadata": {},
   "outputs": [],
   "source": [
    "# test_ids = sorted(list(occs.keys()))"
   ]
  },
  {
   "cell_type": "markdown",
   "metadata": {},
   "source": [
    "Extracting validation speakers:"
   ]
  },
  {
   "cell_type": "code",
   "execution_count": 7,
   "metadata": {},
   "outputs": [],
   "source": [
    "# val_ids = np.random.choice(list(set(os.listdir('../data/wav/')) - set(test_ids)), size=40, replace=False)\n",
    "# val_ids  = sorted(list(val_ids))\n",
    "# len(set(os.listdir('../data/wav/')) - set(test_ids) - set(val_ids))"
   ]
  },
  {
   "cell_type": "markdown",
   "metadata": {},
   "source": [
    "Saving all the test and validation speakers to be reused throughout the project:"
   ]
  },
  {
   "cell_type": "code",
   "execution_count": 8,
   "metadata": {},
   "outputs": [],
   "source": [
    "# with open('../data/test_ids.txt', 'w') as f:\n",
    "#     f.write(str(test_ids))\n",
    "\n",
    "# with open('../data/val_ids.txt', 'w') as f:\n",
    "#     f.write(str(val_ids))"
   ]
  },
  {
   "cell_type": "markdown",
   "metadata": {},
   "source": [
    "### Data split load"
   ]
  },
  {
   "cell_type": "code",
   "execution_count": 9,
   "metadata": {},
   "outputs": [],
   "source": [
    "with open('../data/test_ids.txt', 'r') as f:\n",
    "    test_ids = eval(f.read())\n",
    "\n",
    "with open('../data/val_ids.txt', 'r') as f:\n",
    "    val_ids = eval(f.read())"
   ]
  },
  {
   "cell_type": "code",
   "execution_count": 10,
   "metadata": {},
   "outputs": [],
   "source": [
    "samples_files = glob.glob('../data/wav/**/**/*.wav')\n",
    "samples_df = pd.DataFrame({'path': samples_files})\n",
    "samples_df['path'] = samples_df['path'].str.replace('\\\\', '/')\n",
    "samples_df['speaker_id'] = samples_df['path'].apply(lambda path: path.split('/')[-3])\n",
    "samples_df['utterance_id'] = samples_df['path'].apply(lambda path: path.split('/')[-2])\n",
    "samples_df['sample_id'] = samples_df['path'].apply(lambda path: path.split('/')[-1])"
   ]
  },
  {
   "cell_type": "code",
   "execution_count": 11,
   "metadata": {},
   "outputs": [
    {
     "data": {
      "text/html": [
       "<div>\n",
       "<style scoped>\n",
       "    .dataframe tbody tr th:only-of-type {\n",
       "        vertical-align: middle;\n",
       "    }\n",
       "\n",
       "    .dataframe tbody tr th {\n",
       "        vertical-align: top;\n",
       "    }\n",
       "\n",
       "    .dataframe thead th {\n",
       "        text-align: right;\n",
       "    }\n",
       "</style>\n",
       "<table border=\"1\" class=\"dataframe\">\n",
       "  <thead>\n",
       "    <tr style=\"text-align: right;\">\n",
       "      <th></th>\n",
       "      <th>path</th>\n",
       "      <th>speaker_id</th>\n",
       "      <th>utterance_id</th>\n",
       "      <th>sample_id</th>\n",
       "    </tr>\n",
       "  </thead>\n",
       "  <tbody>\n",
       "    <tr>\n",
       "      <th>0</th>\n",
       "      <td>../data/wav/id11024/LT16_SZUEUA/00001.wav</td>\n",
       "      <td>id11024</td>\n",
       "      <td>LT16_SZUEUA</td>\n",
       "      <td>00001.wav</td>\n",
       "    </tr>\n",
       "    <tr>\n",
       "      <th>1</th>\n",
       "      <td>../data/wav/id11024/LT16_SZUEUA/00011.wav</td>\n",
       "      <td>id11024</td>\n",
       "      <td>LT16_SZUEUA</td>\n",
       "      <td>00011.wav</td>\n",
       "    </tr>\n",
       "    <tr>\n",
       "      <th>2</th>\n",
       "      <td>../data/wav/id11024/LT16_SZUEUA/00008.wav</td>\n",
       "      <td>id11024</td>\n",
       "      <td>LT16_SZUEUA</td>\n",
       "      <td>00008.wav</td>\n",
       "    </tr>\n",
       "    <tr>\n",
       "      <th>3</th>\n",
       "      <td>../data/wav/id11024/LT16_SZUEUA/00007.wav</td>\n",
       "      <td>id11024</td>\n",
       "      <td>LT16_SZUEUA</td>\n",
       "      <td>00007.wav</td>\n",
       "    </tr>\n",
       "    <tr>\n",
       "      <th>4</th>\n",
       "      <td>../data/wav/id11024/LT16_SZUEUA/00010.wav</td>\n",
       "      <td>id11024</td>\n",
       "      <td>LT16_SZUEUA</td>\n",
       "      <td>00010.wav</td>\n",
       "    </tr>\n",
       "    <tr>\n",
       "      <th>...</th>\n",
       "      <td>...</td>\n",
       "      <td>...</td>\n",
       "      <td>...</td>\n",
       "      <td>...</td>\n",
       "    </tr>\n",
       "    <tr>\n",
       "      <th>153511</th>\n",
       "      <td>../data/wav/id11098/iQfAj3ayKVU/00002.wav</td>\n",
       "      <td>id11098</td>\n",
       "      <td>iQfAj3ayKVU</td>\n",
       "      <td>00002.wav</td>\n",
       "    </tr>\n",
       "    <tr>\n",
       "      <th>153512</th>\n",
       "      <td>../data/wav/id11098/78EDYQcqXDo/00001.wav</td>\n",
       "      <td>id11098</td>\n",
       "      <td>78EDYQcqXDo</td>\n",
       "      <td>00001.wav</td>\n",
       "    </tr>\n",
       "    <tr>\n",
       "      <th>153513</th>\n",
       "      <td>../data/wav/id11098/78EDYQcqXDo/00003.wav</td>\n",
       "      <td>id11098</td>\n",
       "      <td>78EDYQcqXDo</td>\n",
       "      <td>00003.wav</td>\n",
       "    </tr>\n",
       "    <tr>\n",
       "      <th>153514</th>\n",
       "      <td>../data/wav/id11098/78EDYQcqXDo/00002.wav</td>\n",
       "      <td>id11098</td>\n",
       "      <td>78EDYQcqXDo</td>\n",
       "      <td>00002.wav</td>\n",
       "    </tr>\n",
       "    <tr>\n",
       "      <th>153515</th>\n",
       "      <td>../data/wav/id11098/WmLIlr2o4GY/00001.wav</td>\n",
       "      <td>id11098</td>\n",
       "      <td>WmLIlr2o4GY</td>\n",
       "      <td>00001.wav</td>\n",
       "    </tr>\n",
       "  </tbody>\n",
       "</table>\n",
       "<p>153516 rows × 4 columns</p>\n",
       "</div>"
      ],
      "text/plain": [
       "                                             path speaker_id utterance_id  \\\n",
       "0       ../data/wav/id11024/LT16_SZUEUA/00001.wav    id11024  LT16_SZUEUA   \n",
       "1       ../data/wav/id11024/LT16_SZUEUA/00011.wav    id11024  LT16_SZUEUA   \n",
       "2       ../data/wav/id11024/LT16_SZUEUA/00008.wav    id11024  LT16_SZUEUA   \n",
       "3       ../data/wav/id11024/LT16_SZUEUA/00007.wav    id11024  LT16_SZUEUA   \n",
       "4       ../data/wav/id11024/LT16_SZUEUA/00010.wav    id11024  LT16_SZUEUA   \n",
       "...                                           ...        ...          ...   \n",
       "153511  ../data/wav/id11098/iQfAj3ayKVU/00002.wav    id11098  iQfAj3ayKVU   \n",
       "153512  ../data/wav/id11098/78EDYQcqXDo/00001.wav    id11098  78EDYQcqXDo   \n",
       "153513  ../data/wav/id11098/78EDYQcqXDo/00003.wav    id11098  78EDYQcqXDo   \n",
       "153514  ../data/wav/id11098/78EDYQcqXDo/00002.wav    id11098  78EDYQcqXDo   \n",
       "153515  ../data/wav/id11098/WmLIlr2o4GY/00001.wav    id11098  WmLIlr2o4GY   \n",
       "\n",
       "        sample_id  \n",
       "0       00001.wav  \n",
       "1       00011.wav  \n",
       "2       00008.wav  \n",
       "3       00007.wav  \n",
       "4       00010.wav  \n",
       "...           ...  \n",
       "153511  00002.wav  \n",
       "153512  00001.wav  \n",
       "153513  00003.wav  \n",
       "153514  00002.wav  \n",
       "153515  00001.wav  \n",
       "\n",
       "[153516 rows x 4 columns]"
      ]
     },
     "execution_count": 11,
     "metadata": {},
     "output_type": "execute_result"
    }
   ],
   "source": [
    "samples_df"
   ]
  },
  {
   "cell_type": "code",
   "execution_count": 12,
   "metadata": {},
   "outputs": [],
   "source": [
    "train_df = samples_df.loc[~samples_df['speaker_id'].isin(test_ids) & ~samples_df['speaker_id'].isin(val_ids)]\n",
    "test_df = samples_df.loc[samples_df['speaker_id'].isin(test_ids)]\n",
    "val_df = samples_df.loc[samples_df['speaker_id'].isin(val_ids)]"
   ]
  },
  {
   "cell_type": "markdown",
   "metadata": {},
   "source": [
    "Sanity check:"
   ]
  },
  {
   "cell_type": "code",
   "execution_count": 13,
   "metadata": {},
   "outputs": [],
   "source": [
    "# for filepath in tqdm(samples_df['path']):\n",
    "#     _, sr = torchaudio.load(filepath)\n",
    "#     assert sr == 16000, sr"
   ]
  },
  {
   "cell_type": "code",
   "execution_count": 14,
   "metadata": {},
   "outputs": [],
   "source": [
    "# audio_lengths = []\n",
    "# for filepath in tqdm(samples_df['path'][:2000]):\n",
    "#     audio, _ = torchaudio.load(filepath)\n",
    "#     audio_lengths.append(audio.size()[1])"
   ]
  },
  {
   "cell_type": "markdown",
   "metadata": {},
   "source": [
    "Saving in HDF5 format (created with ChatGPT):"
   ]
  },
  {
   "cell_type": "code",
   "execution_count": 15,
   "metadata": {},
   "outputs": [],
   "source": [
    "# HDF5_FILE = \"../data/dataset.hdf5\""
   ]
  },
  {
   "cell_type": "code",
   "execution_count": 16,
   "metadata": {},
   "outputs": [],
   "source": [
    "# # Initialize HDF5 file\n",
    "# with h5py.File(HDF5_FILE, \"w\") as hf:\n",
    "#     # Iterate over speaker folders\n",
    "#     for speaker_id in tqdm(os.listdir('..\\\\data\\\\wav\\\\'), desc='Speakers'):\n",
    "#         speaker_group = hf.create_group(speaker_id)\n",
    "#         speaker_path = os.path.join('..\\\\data\\\\wav\\\\', speaker_id)\n",
    "#         # Iterate over utterance folders\n",
    "#         for utterance_id in os.listdir(speaker_path):\n",
    "#             utterance_group = speaker_group.create_group(utterance_id)\n",
    "#             utterance_path = os.path.join(speaker_path, utterance_id)\n",
    "#             # Iterate over sample files\n",
    "#             for sample_id in os.listdir(utterance_path):\n",
    "#                 sample_path = os.path.join(utterance_path, sample_id)\n",
    "#                 if not os.path.isfile(sample_path):\n",
    "#                     continue\n",
    "#                 # Read the sample data\n",
    "#                 data, sr = torchaudio.load(sample_path)\n",
    "#                 # Create a dataset in the HDF5 file and write the sample data\n",
    "#                 utterance_group.create_dataset(sample_id, data=data, compression=\"gzip\")"
   ]
  },
  {
   "cell_type": "code",
   "execution_count": 17,
   "metadata": {},
   "outputs": [],
   "source": [
    "# def load_sample(speaker_id, utterance_id, sample_id):\n",
    "#     with h5py.File(HDF5_FILE, \"r\") as hf:\n",
    "#         try:\n",
    "#             sample_data = hf[speaker_id][utterance_id][sample_id][:]\n",
    "#             return torch.tensor(sample_data)\n",
    "#         except KeyError:\n",
    "#             print(\"Sample not found.\")\n",
    "#             return None"
   ]
  },
  {
   "cell_type": "markdown",
   "metadata": {},
   "source": [
    "Dataset for training:"
   ]
  },
  {
   "cell_type": "code",
   "execution_count": 18,
   "metadata": {},
   "outputs": [],
   "source": [
    "# class VoxCeleb1Triplet(torch.utils.data.Dataset):\n",
    "#     def __init__(self, train_df: pd.DataFrame, transforms = None, max_length: int = MAX_LENGTH):\n",
    "#         self.df = train_df\n",
    "#         self.transforms = transforms\n",
    "#         self.max_length = max_length\n",
    "    \n",
    "#     def __len__(self):\n",
    "#         return len(self.df)\n",
    "    \n",
    "#     def _crop_or_extend(self, sample):\n",
    "#         if sample.size()[1] > self.max_length:\n",
    "#             sample = sample[:, :self.max_length]\n",
    "#         else:\n",
    "#             sample = torch.cat((sample, torch.zeros((1, self.max_length - sample.size()[1]))), dim=1)\n",
    "#         return sample\n",
    "\n",
    "#     def __getitem__(self, id):\n",
    "#         selected_row = self.df.iloc[id]\n",
    "#         selected_speaker_id = selected_row['speaker_id']\n",
    "\n",
    "#         positive_row = self.df.loc[(self.df['speaker_id'] == selected_speaker_id) & (self.df.index != id)].sample(1).iloc[0]\n",
    "\n",
    "#         assert positive_row is not None, f\"There are now samples for the same speaker {selected_speaker_id}, row {id}\"\n",
    "\n",
    "#         negative_row = self.df.loc[(self.df['speaker_id'] != selected_speaker_id)].sample(1).iloc[0]\n",
    "\n",
    "#         assert negative_row is not None, f\"There are no negative samples\"\n",
    "\n",
    "#         anchor_audio, anchor_sr = torchaudio.load(selected_row['path'])\n",
    "#         pos_audio, pos_sr = torchaudio.load(positive_row['path'])\n",
    "#         neg_audio, neg_sr = torchaudio.load(negative_row['path'])\n",
    "#         assert anchor_sr == 16000 and pos_sr == 16000 and neg_sr == 16000\n",
    "#         # anchor_audio = load_sample(selected_row['speaker_id'], selected_row['utterance_id'], selected_row['sample_id'])\n",
    "#         # pos_audio = load_sample(positive_row['speaker_id'], positive_row['utterance_id'], positive_row['sample_id'])\n",
    "#         # neg_audio = load_sample(negative_row['speaker_id'], negative_row['utterance_id'], negative_row['sample_id'])\n",
    "\n",
    "#         if self.transforms is not None:\n",
    "#             anchor_audio = self.transforms(anchor_audio)\n",
    "#             pos_audio = self.transforms(pos_audio)\n",
    "#             neg_audio = self.transforms(neg_audio)\n",
    "        \n",
    "#         anchor_audio = self._crop_or_extend(anchor_audio)\n",
    "#         pos_audio = self._crop_or_extend(pos_audio)\n",
    "#         neg_audio = self._crop_or_extend(neg_audio)\n",
    "        \n",
    "#         return anchor_audio, pos_audio, neg_audio"
   ]
  },
  {
   "cell_type": "code",
   "execution_count": 19,
   "metadata": {},
   "outputs": [],
   "source": [
    "# train_dataset = VoxCeleb1Triplet(train_df)"
   ]
  },
  {
   "cell_type": "code",
   "execution_count": 20,
   "metadata": {},
   "outputs": [],
   "source": [
    "def speaker_id_to_int(speaker_id: str):\n",
    "    return int(speaker_id[3:])"
   ]
  },
  {
   "cell_type": "code",
   "execution_count": 21,
   "metadata": {},
   "outputs": [],
   "source": [
    "class VoxCeleb1Unary(torch.utils.data.Dataset):\n",
    "    def __init__(self, train_df: pd.DataFrame, transforms = None, max_length: int = MAX_LENGTH, supporting_count: int = CLASS_BATCH_SIZE - 1):\n",
    "        self.df = train_df\n",
    "        self.transforms = transforms\n",
    "        self.max_length = max_length\n",
    "        self.supporting_count = max(supporting_count, 0)\n",
    "    \n",
    "    def __len__(self):\n",
    "        return len(self.df)\n",
    "    \n",
    "    def _crop_or_extend(self, sample):\n",
    "        if sample.size()[1] > self.max_length:\n",
    "            sample = sample[:, :self.max_length]\n",
    "        else:\n",
    "            sample = torch.cat((sample, torch.zeros((1, self.max_length - sample.size(1)))), dim=1)\n",
    "        return sample\n",
    "\n",
    "    def __getitem__(self, id):\n",
    "        selected_row = self.df.iloc[id]\n",
    "        selected_speaker_id = selected_row['speaker_id']\n",
    "        positive_rows = self.df.loc[(self.df['speaker_id'] == selected_speaker_id) & (self.df.index != id)] \\\n",
    "            .sample(self.supporting_count)\n",
    "\n",
    "        audio, sr = torchaudio.load(selected_row['path'])\n",
    "        assert sr == 16000\n",
    "        audios = [audio]\n",
    "        for i in range(self.supporting_count):\n",
    "            audio, sr = torchaudio.load(positive_rows.iloc[i]['path'])\n",
    "            assert sr == 16000\n",
    "            audios.append(audio)\n",
    "        # audio = load_sample(selected_row['speaker_id'], selected_row['utterance_id'], selected_row['sample_id'])\n",
    "\n",
    "        if self.transforms is not None:\n",
    "            for i in range(self.supporting_count + 1):\n",
    "                audios[i] = self.transforms(audios[i])\n",
    "        \n",
    "        for i in range(self.supporting_count + 1):\n",
    "            audios[i] = self._crop_or_extend(audios[i])\n",
    "        \n",
    "        return torch.cat(audios), torch.ones(self.supporting_count + 1) * speaker_id_to_int(selected_speaker_id)"
   ]
  },
  {
   "cell_type": "markdown",
   "metadata": {},
   "source": [
    "Transforms defined:"
   ]
  },
  {
   "cell_type": "code",
   "execution_count": 22,
   "metadata": {},
   "outputs": [],
   "source": [
    "class ToComplexTensor(nn.Module):\n",
    "    def __init__(self, *args, **kwargs):\n",
    "        super().__init__(*args, **kwargs)\n",
    "    \n",
    "    def forward(self, real_tensor):\n",
    "        return real_tensor.type(torch.complex64)"
   ]
  },
  {
   "cell_type": "code",
   "execution_count": 23,
   "metadata": {},
   "outputs": [],
   "source": [
    "class RandomTimeStretch(torchaudio.transforms.TimeStretch):\n",
    "    def __init__(self, max_size: int, hop_length: int | None = None, n_freq: int = 128, min_rate: float | None = None, max_rate: float | None = None) -> None:\n",
    "        super().__init__(hop_length, n_freq, None)\n",
    "        self.n_freq = n_freq\n",
    "        self.max_size = max_size\n",
    "        self.min_rate = torch.tensor(min_rate if min_rate is not None and min_rate > 0 else 0.5)\n",
    "        self.max_rate = torch.tensor(max_rate if max_rate is not None else 2)\n",
    "    \n",
    "    def _crop_or_extend(self, sample):\n",
    "        if sample.size()[2] > self.max_size:\n",
    "            sample = sample[:, :self.max_size]\n",
    "        else:\n",
    "            sample = torch.cat((sample, torch.zeros((1, self.n_freq, self.max_size - sample.size(2)), device=sample.device)), dim=2)\n",
    "        return sample\n",
    "\n",
    "    def forward(self, complex_specgrams: torch.Tensor):\n",
    "        results = []\n",
    "        for i in range(complex_specgrams.size(0)):\n",
    "            new_size = torch.empty(1).uniform_(self.min_rate, self.max_rate)\n",
    "            results.append(self._crop_or_extend(super().forward(complex_specgrams[i], \n",
    "                                float(new_size))))\n",
    "\n",
    "        gc.collect()\n",
    "        empty_cache()\n",
    "\n",
    "        return torch.cat(results)"
   ]
  },
  {
   "cell_type": "code",
   "execution_count": 24,
   "metadata": {},
   "outputs": [],
   "source": [
    "train_dataset = VoxCeleb1Unary(train_df)\n",
    "\n",
    "# transforms=Compose([\n",
    "#     # torchaudio.transforms.MelSpectrogram(n_mels=201),\n",
    "#     # torchaudio.transforms.TimeMasking(time_mask_param=40, p=0.8),\n",
    "#     # torchaudio.transforms.FrequencyMasking(freq_mask_param=200),\n",
    "#     # ToComplexTensor(),\n",
    "#     # RandomTimeStretch(),\n",
    "#     # torchaudio.transforms.InverseSpectrogram(),\n",
    "# ])"
   ]
  },
  {
   "cell_type": "code",
   "execution_count": 25,
   "metadata": {},
   "outputs": [
    {
     "data": {
      "text/plain": [
       "(tensor([[ 0.0007, -0.0011, -0.0017,  ...,  0.0286,  0.0200,  0.0184],\n",
       "         [-0.0002,  0.0171, -0.0038,  ...,  0.0000,  0.0000,  0.0000],\n",
       "         [-0.0203, -0.0211, -0.0202,  ...,  0.0000,  0.0000,  0.0000],\n",
       "         [-0.0011, -0.0012, -0.0012,  ...,  0.0000,  0.0000,  0.0000],\n",
       "         [ 0.0118, -0.0038, -0.0183,  ...,  0.0000,  0.0000,  0.0000],\n",
       "         [ 0.0015,  0.0011,  0.0010,  ...,  0.0000,  0.0000,  0.0000]]),\n",
       " tensor([1024., 1024., 1024., 1024., 1024., 1024.]))"
      ]
     },
     "execution_count": 25,
     "metadata": {},
     "output_type": "execute_result"
    }
   ],
   "source": [
    "train_dataset[0]"
   ]
  },
  {
   "cell_type": "markdown",
   "metadata": {},
   "source": [
    "Validation dataset:"
   ]
  },
  {
   "cell_type": "code",
   "execution_count": 26,
   "metadata": {},
   "outputs": [],
   "source": [
    "class VoxCeleb1Validation(torch.utils.data.Dataset):\n",
    "    def __init__(self, val_df: pd.DataFrame, transforms = None, max_length: int = MAX_LENGTH):\n",
    "        self.df = val_df\n",
    "        self.transforms = transforms\n",
    "        self.max_length = max_length\n",
    "    \n",
    "    def __len__(self):\n",
    "        return len(self.df)\n",
    "    \n",
    "    def _crop_or_extend(self, sample):\n",
    "        if sample.size()[1] > self.max_length:\n",
    "            sample = sample[:, :self.max_length]\n",
    "        else:\n",
    "            sample = torch.cat((sample, torch.zeros((1, self.max_length - sample.size()[1]))), dim=1)\n",
    "        return sample\n",
    "\n",
    "    def __getitem__(self, id):\n",
    "        selected_row = self.df.iloc[id]\n",
    "        selected_speaker_id = selected_row['speaker_id']\n",
    "\n",
    "        res_class = np.random.choice((0, 1))\n",
    "\n",
    "        if res_class == 1:\n",
    "            rel_row = self.df.loc[(self.df['speaker_id'] == selected_speaker_id) & (self.df.index != id)].sample(1).iloc[0]\n",
    "        else:\n",
    "            rel_row = self.df.loc[(self.df['speaker_id'] != selected_speaker_id)].sample(1).iloc[0]\n",
    "\n",
    "        assert rel_row is not None, f\"There are now samples for the row {id}\"\n",
    "\n",
    "        anchor_audio, anchor_sr = torchaudio.load(selected_row['path'])\n",
    "        rel_audio, rel_sr = torchaudio.load(rel_row['path'])\n",
    "        assert anchor_sr == 16000 and rel_sr == 16000\n",
    "        # anchor_audio = load_sample(selected_row['speaker_id'], selected_row['utterance_id'], selected_row['sample_id'])\n",
    "        # rel_audio = load_sample(rel_row['speaker_id'], rel_row['utterance_id'], rel_row['sample_id'])\n",
    "\n",
    "        if self.transforms is not None:\n",
    "            anchor_audio = self.transforms(anchor_audio)\n",
    "            rel_audio = self.transforms(rel_audio)\n",
    "        \n",
    "        anchor_audio = self._crop_or_extend(anchor_audio)\n",
    "        rel_audio = self._crop_or_extend(rel_audio)\n",
    "\n",
    "        return anchor_audio, rel_audio, res_class"
   ]
  },
  {
   "cell_type": "code",
   "execution_count": 27,
   "metadata": {},
   "outputs": [],
   "source": [
    "val_dataset = VoxCeleb1Validation(val_df)"
   ]
  },
  {
   "cell_type": "code",
   "execution_count": 28,
   "metadata": {},
   "outputs": [
    {
     "data": {
      "text/plain": [
       "(tensor([[-9.1553e-05, -2.7466e-04, -1.5259e-04,  ...,  0.0000e+00,\n",
       "           0.0000e+00,  0.0000e+00]]),\n",
       " tensor([[-0.0062, -0.0083, -0.0103,  ...,  0.0000,  0.0000,  0.0000]]),\n",
       " 0)"
      ]
     },
     "execution_count": 28,
     "metadata": {},
     "output_type": "execute_result"
    }
   ],
   "source": [
    "val_dataset[0]"
   ]
  },
  {
   "cell_type": "markdown",
   "metadata": {},
   "source": [
    "# Modelling"
   ]
  },
  {
   "cell_type": "code",
   "execution_count": 29,
   "metadata": {},
   "outputs": [],
   "source": [
    "class SiameseCNN(nn.Module):\n",
    "    def __init__(self, backbone_name: str, backbone_pretrained: bool, res_dim: int, n_fft: int, hop_size: int, n_mels: int, mapper_dropout_p: float, power: float = 1.0, sr: int = 16000, logmel: bool = False):\n",
    "        super().__init__()\n",
    "\n",
    "        self.melspec = nn.Sequential(torchaudio.transforms.Spectrogram(\n",
    "            n_fft=n_fft,\n",
    "            hop_length=hop_size,\n",
    "            power=power,\n",
    "        ), torchaudio.transforms.MelScale(\n",
    "            n_mels=n_mels,\n",
    "            sample_rate=sr,\n",
    "            n_stft=n_fft // 2 + 1,\n",
    "            f_min=0,\n",
    "        ))\n",
    "\n",
    "        self.augm = nn.Sequential(\n",
    "            torchaudio.transforms.TimeMasking(time_mask_param=40, p=0.8, iid_masks=True),\n",
    "            torchaudio.transforms.FrequencyMasking(freq_mask_param=n_mels//5, iid_masks=True),\n",
    "            # ToComplexTensor(),\n",
    "            # RandomTimeStretch(max_size = MAX_LENGTH, n_freq=n_mels, hop_length=hop_size),\n",
    "        )\n",
    "\n",
    "        self.logmel = logmel\n",
    "\n",
    "        self.backbone = timm.create_model(\n",
    "            backbone_name,\n",
    "            features_only=True,\n",
    "            pretrained=backbone_pretrained,\n",
    "            in_chans=1,\n",
    "            exportable=True\n",
    "        )\n",
    "\n",
    "        self.pool = nn.AdaptiveAvgPool2d((1, 1))\n",
    "        self.mapper = nn.Sequential(\n",
    "            nn.Dropout(p=mapper_dropout_p),\n",
    "            nn.Linear(self.backbone.feature_info.channels()[-1], res_dim),\n",
    "        )\n",
    "\n",
    "\n",
    "    def forward(self, input, return_specs=False, return_augm=False):\n",
    "        specs = self.melspec(input)\n",
    "        if self.logmel:\n",
    "            specs = torch.log10(torch.clamp(specs, min=torch.tensor(1e-3, device=specs.device)))\n",
    "        \n",
    "        if return_specs:\n",
    "            return specs\n",
    "\n",
    "        if self.training:\n",
    "            specs = self.augm(specs)\n",
    "            specs = specs.type(torch.float32)\n",
    "        if return_augm:\n",
    "            return specs\n",
    "\n",
    "        # emb = self.backbone(input)[-1]\n",
    "        emb = self.backbone(specs)[-1]\n",
    "\n",
    "        bs, ch, _, _ = emb.shape\n",
    "        emb = self.pool(emb)\n",
    "        emb = emb.view(bs, ch)\n",
    "\n",
    "        emb = self.mapper(emb)\n",
    "        return emb\n"
   ]
  },
  {
   "cell_type": "code",
   "execution_count": 30,
   "metadata": {},
   "outputs": [],
   "source": [
    "class SiameseHead(nn.Module):\n",
    "    def __init__(self, input_dim: int, drop_p=0.25):\n",
    "        super().__init__()\n",
    "\n",
    "        self.dropout = nn.Dropout(p=drop_p)\n",
    "        self.layers = nn.Sequential(\n",
    "            nn.BatchNorm1d(input_dim),\n",
    "            self.dropout,\n",
    "            nn.Linear(input_dim, 128),\n",
    "            nn.ReLU(),\n",
    "            nn.BatchNorm1d(128),\n",
    "            self.dropout,\n",
    "            nn.Linear(128, 32),\n",
    "            nn.ReLU(),\n",
    "            nn.BatchNorm1d(32),\n",
    "            self.dropout,\n",
    "            nn.Linear(32, 1)\n",
    "        )\n",
    "\n",
    "\n",
    "    def forward(self, input):\n",
    "        return self.layers(input)\n"
   ]
  },
  {
   "cell_type": "code",
   "execution_count": 31,
   "metadata": {},
   "outputs": [
    {
     "name": "stderr",
     "output_type": "stream",
     "text": [
      "Unexpected keys (bn2.bias, bn2.num_batches_tracked, bn2.running_mean, bn2.running_var, bn2.weight, classifier.bias, classifier.weight, conv_head.weight) found while loading pretrained weights. This may be expected if model is being adapted.\n"
     ]
    }
   ],
   "source": [
    "model = SiameseCNN('tf_efficientnet_b0.in1k', True, EMBEDDING_DIM, 1024, 512, 128, 0.25, logmel=True)\n",
    "# model = SiameseCNN('convnext_tiny.in12k_ft_in1k', True, EMBEDDING_DIM, 1024, 512, 128, 0.25, logmel=True)\n",
    "model_head = SiameseHead(input_dim=2*EMBEDDING_DIM)\n",
    "\n",
    "model = model.to(DEVICE)\n",
    "model_head = model_head.to(DEVICE)"
   ]
  },
  {
   "cell_type": "markdown",
   "metadata": {},
   "source": [
    "Checking that augmentations work:"
   ]
  },
  {
   "cell_type": "code",
   "execution_count": 32,
   "metadata": {},
   "outputs": [],
   "source": [
    "first_batch = train_dataset[0]"
   ]
  },
  {
   "cell_type": "code",
   "execution_count": 33,
   "metadata": {},
   "outputs": [],
   "source": [
    "specs_augmented = model(first_batch[0].unsqueeze(1).cuda(1), return_augm=True)\n",
    "specs_pure = model(first_batch[0].unsqueeze(1).cuda(1), return_specs=True)"
   ]
  },
  {
   "cell_type": "code",
   "execution_count": 34,
   "metadata": {},
   "outputs": [],
   "source": [
    "# plt.imshow(specs_augmented[0][0].cpu().detach().numpy())\n",
    "# plt.show()"
   ]
  },
  {
   "cell_type": "code",
   "execution_count": 35,
   "metadata": {},
   "outputs": [],
   "source": [
    "train_loader = torch.utils.data.DataLoader(train_dataset, batch_size=BATCH_SIZE, shuffle=True)\n",
    "val_loader = torch.utils.data.DataLoader(val_dataset, batch_size=BATCH_SIZE*CLASS_BATCH_SIZE, shuffle=False)"
   ]
  },
  {
   "cell_type": "markdown",
   "metadata": {},
   "source": [
    "## Losses definition"
   ]
  },
  {
   "cell_type": "code",
   "execution_count": 36,
   "metadata": {},
   "outputs": [],
   "source": [
    "class TripletLoss(nn.Module):\n",
    "    def __init__(self, margin: float = 1.0):\n",
    "        super(TripletLoss, self).__init__()\n",
    "        self.margin = margin\n",
    "    \n",
    "    @staticmethod\n",
    "    def calc_euclidean(x1, x2):\n",
    "        return (x1 - x2).pow(2).sum(1)\n",
    "    \n",
    "    def forward(self, anchor: torch.Tensor, positive: torch.Tensor, negative: torch.Tensor) -> torch.Tensor:\n",
    "        distance_positive = TripletLoss.calc_euclidean(anchor, positive)\n",
    "        distance_negative = TripletLoss.calc_euclidean(anchor, negative)\n",
    "        losses = torch.relu(distance_positive - distance_negative + self.margin)\n",
    "\n",
    "        return losses.mean()"
   ]
  },
  {
   "cell_type": "markdown",
   "metadata": {},
   "source": [
    "https://towardsdatascience.com/triplet-loss-advanced-intro-49a07b7d8905"
   ]
  },
  {
   "cell_type": "code",
   "execution_count": 37,
   "metadata": {},
   "outputs": [],
   "source": [
    "class BatchAllTtripletLoss(nn.Module):\n",
    "    \"\"\"Uses all valid triplets to compute Triplet loss\n",
    "    Args:\n",
    "        margin: Margin value in the Triplet Loss equation\n",
    "    \"\"\"\n",
    "    def __init__(self, margin=1.0, eps=1e-8):\n",
    "        super().__init__()\n",
    "        self.margin = margin\n",
    "        self.eps = eps\n",
    "        # self.threshold = self.margin*100\n",
    "    \n",
    "    def euclidean_distance_matrix(self, x):\n",
    "        \"\"\"Efficient computation of Euclidean distance matrix\n",
    "        Args:\n",
    "            x: Input tensor of shape (batch_size, embedding_dim)\n",
    "            \n",
    "        Returns:\n",
    "            Distance matrix of shape (batch_size, batch_size)\n",
    "        \"\"\"\n",
    "        # step 1 - compute the dot product\n",
    "\n",
    "        # shape: (batch_size, batch_size)\n",
    "        dot_product = torch.mm(x, x.t())\n",
    "\n",
    "        # step 2 - extract the squared Euclidean norm from the diagonal\n",
    "\n",
    "        # shape: (batch_size,)\n",
    "        squared_norm = torch.diag(dot_product)\n",
    "\n",
    "        # step 3 - compute squared Euclidean distances\n",
    "\n",
    "        # shape: (batch_size, batch_size)\n",
    "        distance_matrix = squared_norm.unsqueeze(0) - 2 * dot_product + squared_norm.unsqueeze(1)\n",
    "\n",
    "        # get rid of negative distances due to numerical instabilities\n",
    "        distance_matrix = F.relu(distance_matrix)\n",
    "\n",
    "        # step 4 - compute the non-squared distances\n",
    "        \n",
    "        # handle numerical stability\n",
    "        # derivative of the square root operation applied to 0 is infinite\n",
    "        # we need to handle by setting any 0 to eps\n",
    "        mask = (distance_matrix == 0.0).float()\n",
    "\n",
    "        # use this mask to set indices with a value of 0 to eps\n",
    "        distance_matrix = distance_matrix + mask * self.eps\n",
    "\n",
    "        # now it is safe to get the square root\n",
    "        distance_matrix = torch.sqrt(distance_matrix)\n",
    "\n",
    "        # undo the trick for numerical stability\n",
    "        distance_matrix = (1.0 - mask)*distance_matrix\n",
    "\n",
    "        return distance_matrix\n",
    "\n",
    "    def get_triplet_mask(self, labels):\n",
    "        \"\"\"compute a mask for valid triplets\n",
    "        Args:\n",
    "            labels: Batch of integer labels. shape: (batch_size,)\n",
    "        Returns:\n",
    "            Mask tensor to indicate which triplets are actually valid. Shape: (batch_size, batch_size, batch_size)\n",
    "            A triplet is valid if:\n",
    "            `labels[i] == labels[j] and labels[i] != labels[k]`\n",
    "            and `i`, `j`, `k` are different.\n",
    "        \"\"\"\n",
    "        # step 1 - get a mask for distinct indices\n",
    "\n",
    "        # shape: (batch_size, batch_size)\n",
    "        indices_equal = torch.eye(labels.size()[0], dtype=torch.bool, device=labels.device)\n",
    "        indices_not_equal = torch.logical_not(indices_equal)\n",
    "        # shape: (batch_size, batch_size, 1)\n",
    "        i_not_equal_j = indices_not_equal.unsqueeze(2)\n",
    "        # shape: (batch_size, 1, batch_size)\n",
    "        i_not_equal_k = indices_not_equal.unsqueeze(1)\n",
    "        # shape: (1, batch_size, batch_size)\n",
    "        j_not_equal_k = indices_not_equal.unsqueeze(0)\n",
    "        # Shape: (batch_size, batch_size, batch_size)\n",
    "        distinct_indices = torch.logical_and(torch.logical_and(i_not_equal_j, i_not_equal_k), j_not_equal_k)\n",
    "\n",
    "        # step 2 - get a mask for valid anchor-positive-negative triplets\n",
    "\n",
    "        # shape: (batch_size, batch_size)\n",
    "        labels_equal = labels.unsqueeze(0) == labels.unsqueeze(1)\n",
    "        # shape: (batch_size, batch_size, 1)\n",
    "        i_equal_j = labels_equal.unsqueeze(2)\n",
    "        # shape: (batch_size, 1, batch_size)\n",
    "        i_equal_k = labels_equal.unsqueeze(1)\n",
    "        # shape: (batch_size, batch_size, batch_size)\n",
    "        valid_indices = torch.logical_and(i_equal_j, torch.logical_not(i_equal_k))\n",
    "\n",
    "        # step 3 - combine two masks\n",
    "        mask = torch.logical_and(distinct_indices, valid_indices)\n",
    "\n",
    "        return mask\n",
    "    \n",
    "    def forward(self, embeddings, labels):\n",
    "        \"\"\"computes loss value.\n",
    "        Args:\n",
    "        embeddings: Batch of embeddings, e.g., output of the encoder. shape: (batch_size, embedding_dim)\n",
    "        labels: Batch of integer labels associated with embeddings. shape: (batch_size,)\n",
    "        Returns:\n",
    "        Scalar loss value.\n",
    "        \"\"\"\n",
    "        # step 1 - get distance matrix\n",
    "        # shape: (batch_size, batch_size)\n",
    "        distance_matrix = self.euclidean_distance_matrix(embeddings)\n",
    "\n",
    "        # step 2 - compute loss values for all triplets by applying broadcasting to distance matrix\n",
    "\n",
    "        # shape: (batch_size, batch_size, 1)\n",
    "        anchor_positive_dists = distance_matrix.unsqueeze(2)\n",
    "        # shape: (batch_size, 1, batch_size)\n",
    "        anchor_negative_dists = distance_matrix.unsqueeze(1)\n",
    "        # get loss values for all possible n^3 triplets\n",
    "        # shape: (batch_size, batch_size, batch_size)\n",
    "        triplet_loss = anchor_positive_dists - anchor_negative_dists + self.margin\n",
    "\n",
    "        # step 3 - filter out invalid or easy triplets by setting their loss values to 0\n",
    "\n",
    "        # shape: (batch_size, batch_size, batch_size)\n",
    "        mask = self.get_triplet_mask(labels)\n",
    "        \n",
    "        triplet_loss = triplet_loss * mask\n",
    "        # easy triplets have negative loss values\n",
    "        triplet_loss = F.relu(triplet_loss)\n",
    "\n",
    "        # triplet_loss, _ = torch.max(triplet_loss, dim=1)\n",
    "        # triplet_loss, _ = torch.max(triplet_loss, dim=1)\n",
    "\n",
    "        # step 4 - compute scalar loss value by averaging positive losses\n",
    "        num_positive_losses = (triplet_loss > self.eps).float().sum()\n",
    "        triplet_loss = triplet_loss.sum() / (num_positive_losses + self.eps)\n",
    "\n",
    "        # pos_mask = (labels.unsqueeze(0) == labels.unsqueeze(1)) & ~torch.eye(labels.size(0), dtype=torch.bool, device=labels.device)\n",
    "        # pos_ids = pos_mask.nonzero()\n",
    "        # pos_random_indices = pos_ids[torch.randperm(pos_ids.size(0))][:, 1]\n",
    "        # pos_dists = distance_matrix[pos_mask][pos_random_indices]\n",
    "\n",
    "        # neg_mask = labels.unsqueeze(0) != labels.unsqueeze(1)\n",
    "        # neg_ids = neg_mask.nonzero()\n",
    "        # neg_random_indices = neg_ids[torch.randperm(neg_ids.size(0))][:, 1]\n",
    "        # neg_dists = distance_matrix[neg_mask][neg_random_indices]\n",
    "\n",
    "        # self.threshold, optim_train_acc = 0.0, 0.0\n",
    "        # for dist in torch.cat((pos_dists, neg_dists), dim=0):\n",
    "        #     acc = (len(pos_dists[pos_dists < dist]) + len(neg_dists[neg_dists >= dist]))/(len(pos_dists) + len(neg_dists))\n",
    "        #     if acc > optim_train_acc:\n",
    "        #         optim_train_acc = acc\n",
    "        #         self.threshold = float(dist)\n",
    "\n",
    "        return triplet_loss #, (optim_train_acc, self.threshold)"
   ]
  },
  {
   "cell_type": "markdown",
   "metadata": {},
   "source": [
    "# Training process"
   ]
  },
  {
   "cell_type": "code",
   "execution_count": 38,
   "metadata": {},
   "outputs": [],
   "source": [
    "optimizer = torch.optim.AdamW([\n",
    "                {'params': model.mapper.parameters(), 'lr': 1e-3},\n",
    "                {'params': model.backbone.parameters(), 'lr': 3e-4}\n",
    "            ])\n",
    "scheduler = torch.optim.lr_scheduler.CosineAnnealingLR(optimizer, EPOCHS * np.ceil(len(train_dataset) / BATCH_SIZE), eta_min=1e-6)\n",
    "criterion = torch.jit.script(BatchAllTtripletLoss())\n",
    "optimizer_head = torch.optim.AdamW([\n",
    "                {'params': model_head.parameters(), 'lr': 1e-3},\n",
    "            ])\n",
    "scheduler_head = torch.optim.lr_scheduler.CosineAnnealingLR(optimizer_head, EPOCHS * np.ceil(len(train_dataset) / BATCH_SIZE), eta_min=1e-6)\n",
    "criterion_head = nn.BCEWithLogitsLoss(pos_weight=torch.tensor([POS_WEIGHT], dtype=torch.float)).to(DEVICE)"
   ]
  },
  {
   "cell_type": "code",
   "execution_count": 39,
   "metadata": {},
   "outputs": [],
   "source": [
    "best_val_f1 = 0\n",
    "running_loss = []\n",
    "\n",
    "train_f1s = []\n",
    "val_f1s = []\n",
    "train_accs = []\n",
    "val_accs = []\n",
    "train_precs = []\n",
    "val_precs = []\n",
    "train_recs = []\n",
    "val_recs = []"
   ]
  },
  {
   "cell_type": "code",
   "execution_count": 40,
   "metadata": {},
   "outputs": [
    {
     "name": "stderr",
     "output_type": "stream",
     "text": [
      "Epochs:   0%|          | 0/2 [00:00<?, ?it/s]/home/ashevtsov/speaker-verification-project/.venv/lib/python3.10/site-packages/timm/layers/conv2d_same.py:27: UserWarning: Applied workaround for CuDNN issue, install nvrtc.so (Triggered internally at ../aten/src/ATen/native/cudnn/Conv_v8.cpp:80.)\n",
      "  return F.conv2d(x, weight, bias, stride, (0, 0), dilation, groups)\n"
     ]
    },
    {
     "name": "stdout",
     "output_type": "stream",
     "text": [
      "Step: 1 - Triplet Loss: 1.0795, CE Loss: 0.7589\n",
      "\tTrain Acc: 0.5649, Train precision: 0.0335, Train recall: 0.4346, Train F1: 0.0622\n",
      "\tVal Acc: 0.4960, Val precision: 0.0000, Val recall: 0.0000, Val F1: 0.0000\n"
     ]
    },
    {
     "name": "stderr",
     "output_type": "stream",
     "text": []
    },
    {
     "name": "stdout",
     "output_type": "stream",
     "text": [
      "Step: 151 - Triplet Loss: 0.6117, CE Loss: 0.3981\n",
      "\tTrain Acc: 0.9304, Train precision: 0.1777, Train recall: 0.3385, Train F1: 0.2330\n",
      "\tVal Acc: 0.6484, Val precision: 0.9080, Val recall: 0.3113, Val F1: 0.4636\n",
      "\tSaving the model...\n"
     ]
    },
    {
     "name": "stderr",
     "output_type": "stream",
     "text": []
    },
    {
     "name": "stdout",
     "output_type": "stream",
     "text": [
      "Step: 301 - Triplet Loss: 0.4958, CE Loss: 0.2674\n",
      "\tTrain Acc: 0.9553, Train precision: 0.3364, Train recall: 0.3546, Train F1: 0.3453\n",
      "\tVal Acc: 0.6820, Val precision: 0.9321, Val recall: 0.3852, Val F1: 0.5451\n",
      "\tSaving the model...\n"
     ]
    },
    {
     "name": "stderr",
     "output_type": "stream",
     "text": []
    },
    {
     "name": "stdout",
     "output_type": "stream",
     "text": [
      "Step: 451 - Triplet Loss: 0.4740, CE Loss: 0.2328\n",
      "\tTrain Acc: 0.9603, Train precision: 0.4075, Train recall: 0.4338, Train F1: 0.4203\n",
      "\tVal Acc: 0.7305, Val precision: 0.9281, Val recall: 0.4803, Val F1: 0.6330\n",
      "\tSaving the model...\n"
     ]
    },
    {
     "name": "stderr",
     "output_type": "stream",
     "text": []
    },
    {
     "name": "stdout",
     "output_type": "stream",
     "text": [
      "Step: 601 - Triplet Loss: 0.4766, CE Loss: 0.2277\n",
      "\tTrain Acc: 0.9628, Train precision: 0.4395, Train recall: 0.4420, Train F1: 0.4407\n",
      "\tVal Acc: 0.7121, Val precision: 0.9470, Val recall: 0.4540, Val F1: 0.6137\n"
     ]
    },
    {
     "name": "stderr",
     "output_type": "stream",
     "text": []
    },
    {
     "name": "stdout",
     "output_type": "stream",
     "text": [
      "Step: 751 - Triplet Loss: 0.4554, CE Loss: 0.2157\n",
      "\tTrain Acc: 0.9637, Train precision: 0.4256, Train recall: 0.4592, Train F1: 0.4418\n",
      "\tVal Acc: 0.7162, Val precision: 0.9545, Val recall: 0.4543, Val F1: 0.6156\n"
     ]
    },
    {
     "name": "stderr",
     "output_type": "stream",
     "text": []
    },
    {
     "name": "stdout",
     "output_type": "stream",
     "text": [
      "Step: 901 - Triplet Loss: 0.4512, CE Loss: 0.2071\n",
      "\tTrain Acc: 0.9604, Train precision: 0.4219, Train recall: 0.5188, Train F1: 0.4654\n",
      "\tVal Acc: 0.7596, Val precision: 0.9422, Val recall: 0.5382, Val F1: 0.6850\n",
      "\tSaving the model...\n"
     ]
    },
    {
     "name": "stderr",
     "output_type": "stream",
     "text": []
    },
    {
     "name": "stdout",
     "output_type": "stream",
     "text": [
      "Step: 1051 - Triplet Loss: 0.4470, CE Loss: 0.2116\n",
      "\tTrain Acc: 0.9623, Train precision: 0.4400, Train recall: 0.4910, Train F1: 0.4641\n",
      "\tVal Acc: 0.7635, Val precision: 0.9459, Val recall: 0.5636, Val F1: 0.7063\n",
      "\tSaving the model...\n"
     ]
    },
    {
     "name": "stderr",
     "output_type": "stream",
     "text": []
    },
    {
     "name": "stdout",
     "output_type": "stream",
     "text": [
      "Step: 1201 - Triplet Loss: 0.4676, CE Loss: 0.2037\n",
      "\tTrain Acc: 0.9607, Train precision: 0.4276, Train recall: 0.5425, Train F1: 0.4782\n",
      "\tVal Acc: 0.7719, Val precision: 0.9638, Val recall: 0.5705, Val F1: 0.7167\n",
      "\tSaving the model...\n"
     ]
    },
    {
     "name": "stderr",
     "output_type": "stream",
     "text": []
    },
    {
     "name": "stdout",
     "output_type": "stream",
     "text": [
      "Step: 1351 - Triplet Loss: 0.4242, CE Loss: 0.1842\n",
      "\tTrain Acc: 0.9650, Train precision: 0.4507, Train recall: 0.5512, Train F1: 0.4959\n",
      "\tVal Acc: 0.7858, Val precision: 0.9570, Val recall: 0.5986, Val F1: 0.7365\n",
      "\tSaving the model...\n"
     ]
    },
    {
     "name": "stderr",
     "output_type": "stream",
     "text": []
    },
    {
     "name": "stdout",
     "output_type": "stream",
     "text": [
      "Step: 1501 - Triplet Loss: 0.4304, CE Loss: 0.1742\n",
      "\tTrain Acc: 0.9657, Train precision: 0.4623, Train recall: 0.5911, Train F1: 0.5189\n",
      "\tVal Acc: 0.7821, Val precision: 0.9530, Val recall: 0.5837, Val F1: 0.7240\n"
     ]
    },
    {
     "name": "stderr",
     "output_type": "stream",
     "text": []
    },
    {
     "name": "stdout",
     "output_type": "stream",
     "text": [
      "Step: 1651 - Triplet Loss: 0.3876, CE Loss: 0.1613\n",
      "\tTrain Acc: 0.9669, Train precision: 0.4773, Train recall: 0.6389, Train F1: 0.5464\n",
      "\tVal Acc: 0.7921, Val precision: 0.9605, Val recall: 0.6058, Val F1: 0.7430\n",
      "\tSaving the model...\n"
     ]
    },
    {
     "name": "stderr",
     "output_type": "stream",
     "text": []
    },
    {
     "name": "stdout",
     "output_type": "stream",
     "text": [
      "Step: 1801 - Triplet Loss: 0.4429, CE Loss: 0.1865\n",
      "\tTrain Acc: 0.9640, Train precision: 0.4655, Train recall: 0.5629, Train F1: 0.5096\n",
      "\tVal Acc: 0.7878, Val precision: 0.9475, Val recall: 0.6100, Val F1: 0.7422\n"
     ]
    },
    {
     "name": "stderr",
     "output_type": "stream",
     "text": []
    }
   ],
   "source": [
    "model.train()\n",
    "model_head.train()\n",
    "for epoch in tqdm(range(EPOCHS), desc=\"Epochs\"):\n",
    "    for step, (audios, labels) in enumerate(tqdm(train_loader, desc=\"Training\")):\n",
    "        labels = labels.view((-1))\n",
    "        audios = audios.view((-1, 1, MAX_LENGTH))\n",
    "        audios = audios.to(DEVICE)\n",
    "        labels = labels.to(DEVICE)\n",
    "        \n",
    "        optimizer.zero_grad()\n",
    "        out = model(audios)\n",
    "        \n",
    "        loss = criterion(out, labels)\n",
    "\n",
    "        # loss.backward()\n",
    "        # optimizer.step()\n",
    "        # scheduler.step()\n",
    "\n",
    "        # out = out.detach()\n",
    "        B, C = out.size()\n",
    "\n",
    "        expanded_out1 = out.unsqueeze(0).expand(B, B, C)\n",
    "        expanded_out2 = out.unsqueeze(1).expand(B, B, C)\n",
    "\n",
    "        concatenated_pairs = torch.cat((expanded_out1, expanded_out2), dim=-1)\n",
    "\n",
    "        concatenated_pairs = concatenated_pairs.view(-1, 2*C)\n",
    "\n",
    "        labels1 = labels.unsqueeze(0).expand(B, B)  # Shape: (1, B, C)\n",
    "        labels2 = labels.unsqueeze(1).expand(B, B)  # Shape: (B, 1, C)\n",
    "\n",
    "        # Concatenate embeddings of all pairs\n",
    "        concatenated_labels = (labels1 == labels2).reshape(B * B).type(torch.FloatTensor).to(DEVICE)\n",
    "\n",
    "        optimizer_head.zero_grad()\n",
    "        out_head = model_head(concatenated_pairs)\n",
    "        \n",
    "        # print(out_head.size())\n",
    "        # print(out_head.type())\n",
    "        # print(concatenated_labels.size())\n",
    "        # print(concatenated_labels.type())\n",
    "\n",
    "        loss_head = criterion_head(out_head, concatenated_labels.unsqueeze(1))\n",
    "        full_loss = (TRIPLET_LOSS_FRAC) * loss + (1 - TRIPLET_LOSS_FRAC) * loss_head\n",
    "        full_loss.backward()\n",
    "        # loss_head.backward()\n",
    "        optimizer_head.step()\n",
    "        scheduler_head.step()\n",
    "        optimizer.step()\n",
    "        scheduler.step()\n",
    "        # print(torch.sigmoid(out_head[:10]).cpu().detach().squeeze())\n",
    "        # print(concatenated_labels[:10])\n",
    "\n",
    "        running_loss.append(full_loss.cpu().detach().numpy())\n",
    "\n",
    "\n",
    "        if step % EVAL_EVERY_STEPS == 0:\n",
    "            model.eval()\n",
    "            model_head.eval()\n",
    "\n",
    "            pred_head = (out_head >= 0).cpu().detach().numpy()\n",
    "            concatenated_labels = concatenated_labels.cpu().detach().numpy()\n",
    "\n",
    "            train_acc = accuracy_score(concatenated_labels, pred_head)\n",
    "            train_prec = precision_score(concatenated_labels, pred_head, zero_division=0)\n",
    "            train_rec = recall_score(concatenated_labels, pred_head, zero_division=0)\n",
    "            train_f1 = f1_score(concatenated_labels, pred_head, zero_division=0)\n",
    "\n",
    "            with torch.no_grad():\n",
    "                pred_list = []\n",
    "                labels_list = []\n",
    "                for val_step, (anchor_audio, rel_audio, labels) in enumerate(val_loader):\n",
    "                    anchor_audio = anchor_audio.to(DEVICE)\n",
    "                    rel_audio = rel_audio.to(DEVICE)\n",
    "                    \n",
    "                    optimizer.zero_grad()\n",
    "                    anchor_out = model(anchor_audio)\n",
    "                    rel_out = model(rel_audio)\n",
    "\n",
    "                    labels_list.append(labels.cpu().numpy())\n",
    "\n",
    "                    concatenated_pairs = torch.cat((anchor_out, rel_out), dim=-1)\n",
    "                    out_head = model_head(concatenated_pairs)\n",
    "\n",
    "                    pred_list.append((out_head >= 0).cpu().numpy())\n",
    "                \n",
    "                preds = np.concatenate(pred_list)\n",
    "                labels = np.concatenate(labels_list)\n",
    "                val_acc = accuracy_score(labels, preds)\n",
    "                val_prec = precision_score(labels, preds, zero_division=0)\n",
    "                val_rec = recall_score(labels, preds, zero_division=0)\n",
    "                val_f1 = f1_score(labels, preds, zero_division=0)\n",
    "\n",
    "            model.train()\n",
    "            model_head.train()\n",
    "\n",
    "            print(f\"Step: {step+1} - Triplet Loss: {running_loss[-1]:.4f}, CE Loss: {loss_head:.4f}\")\n",
    "            print(f\"\\tTrain Acc: {train_acc:.4f}, Train precision: {train_prec:.4f}, Train recall: {train_rec:.4f}, Train F1: {train_f1:.4f}\")\n",
    "            print(f\"\\tVal Acc: {val_acc:.4f}, Val precision: {val_prec:.4f}, Val recall: {val_rec:.4f}, Val F1: {val_f1:.4f}\")\n",
    "\n",
    "            train_f1s.append(train_f1)\n",
    "            train_accs.append(train_acc)\n",
    "            train_precs.append(train_prec)\n",
    "            train_recs.append(train_rec)\n",
    "\n",
    "            val_f1s.append(val_f1)\n",
    "            val_accs.append(val_acc)\n",
    "            val_precs.append(val_prec)\n",
    "            val_recs.append(val_rec)\n",
    "\n",
    "            if val_f1 > best_val_f1:\n",
    "                best_val_f1 = val_f1\n",
    "                torch.save(model.state_dict(), MODEL_SAVE_PATH)\n",
    "                torch.save(model_head.state_dict(), MODEL_HEAD_SAVE_PATH)\n",
    "                print('\\tSaving the model...')\n"
   ]
  },
  {
   "cell_type": "code",
   "execution_count": null,
   "metadata": {},
   "outputs": [
    {
     "data": {
      "image/png": "[encoded data removed]",
      "text/plain": [
       "<Figure size 640x480 with 1 Axes>"
      ]
     },
     "metadata": {},
     "output_type": "display_data"
    }
   ],
   "source": [
    "plt.title(\"Training loss\")\n",
    "plt.ylabel('Loss value')\n",
    "plt.xlabel('Training step')\n",
    "plt.plot(running_loss)\n",
    "plt.show()"
   ]
  },
  {
   "cell_type": "code",
   "execution_count": null,
   "metadata": {},
   "outputs": [],
   "source": [
    "eval_steps = [i * EVAL_EVERY_STEPS + 1 for i in range(len(train_accs))]"
   ]
  },
  {
   "cell_type": "code",
   "execution_count": null,
   "metadata": {},
   "outputs": [
    {
     "data": {
      "image/png": "[encoded data removed]",
      "text/plain": [
       "<Figure size 640x480 with 1 Axes>"
      ]
     },
     "metadata": {},
     "output_type": "display_data"
    }
   ],
   "source": [
    "plt.title('Train vs Validation accuracy progress')\n",
    "plt.plot(eval_steps, 100*np.array(train_accs), label='Train accuracy')\n",
    "plt.plot(eval_steps, 100*np.array(val_accs), label='Validation accuracy')\n",
    "plt.ylabel('Accuracy values, %')\n",
    "plt.xlabel('Training step')\n",
    "plt.ylim([0, 100])\n",
    "plt.legend()\n",
    "plt.show()"
   ]
  },
  {
   "cell_type": "code",
   "execution_count": null,
   "metadata": {},
   "outputs": [
    {
     "data": {
      "image/png": "[encoded data removed]",
      "text/plain": [
       "<Figure size 640x480 with 1 Axes>"
      ]
     },
     "metadata": {},
     "output_type": "display_data"
    }
   ],
   "source": [
    "plt.title('Train vs Validation F1 progress')\n",
    "plt.plot(eval_steps, 100*np.array(train_f1s), label='Train F1')\n",
    "plt.plot(eval_steps, 100*np.array(val_f1s), label='Validation F1')\n",
    "plt.ylabel('F1 values, %')\n",
    "plt.xlabel('Training step')\n",
    "plt.ylim([0, 100])\n",
    "plt.legend()\n",
    "plt.show()"
   ]
  },
  {
   "cell_type": "code",
   "execution_count": null,
   "metadata": {},
   "outputs": [
    {
     "data": {
      "image/png": "[encoded data removed]",
      "text/plain": [
       "<Figure size 640x480 with 1 Axes>"
      ]
     },
     "metadata": {},
     "output_type": "display_data"
    }
   ],
   "source": [
    "plt.title('Train vs Validation precision progress')\n",
    "plt.plot(eval_steps, 100*np.array(train_precs), label='Train precision')\n",
    "plt.plot(eval_steps, 100*np.array(val_precs), label='Validation precision')\n",
    "plt.ylabel('Precision values, %')\n",
    "plt.xlabel('Training step')\n",
    "plt.ylim([0, 100])\n",
    "plt.legend()\n",
    "plt.show()"
   ]
  },
  {
   "cell_type": "code",
   "execution_count": null,
   "metadata": {},
   "outputs": [
    {
     "data": {
      "image/png": "[encoded data removed]",
      "text/plain": [
       "<Figure size 640x480 with 1 Axes>"
      ]
     },
     "metadata": {},
     "output_type": "display_data"
    }
   ],
   "source": [
    "plt.title('Train vs Validation recall progress')\n",
    "plt.plot(eval_steps, 100*np.array(train_recs), label='Train recall')\n",
    "plt.plot(eval_steps, 100*np.array(val_recs), label='Validation recall')\n",
    "plt.ylabel('Recall values, %')\n",
    "plt.xlabel('Training step')\n",
    "plt.ylim([0, 100])\n",
    "plt.legend()\n",
    "plt.show()"
   ]
  },
  {
   "cell_type": "code",
   "execution_count": null,
   "metadata": {},
   "outputs": [],
   "source": [
    "# model.eval()\n",
    "# model_head.eval()\n",
    "\n",
    "# pred_head = (out_head >= 0).cpu().detach().numpy()\n",
    "# concatenated_labels = concatenated_labels.cpu().detach().numpy()\n",
    "\n",
    "# train_acc = accuracy_score(concatenated_labels, pred_head)\n",
    "# train_prec = precision_score(concatenated_labels, pred_head, zero_division=0)\n",
    "# train_rec = recall_score(concatenated_labels, pred_head, zero_division=0)\n",
    "# train_f1 = f1_score(concatenated_labels, pred_head, zero_division=0)\n",
    "\n",
    "# with torch.no_grad():\n",
    "#     pred_list = []\n",
    "#     labels_list = []\n",
    "#     for val_step, (anchor_audio, rel_audio, labels) in enumerate(val_loader):\n",
    "#         anchor_audio = anchor_audio.to(DEVICE)\n",
    "#         rel_audio = rel_audio.to(DEVICE)\n",
    "        \n",
    "#         optimizer.zero_grad()\n",
    "#         anchor_out = model(anchor_audio)\n",
    "#         rel_out = model(rel_audio)\n",
    "\n",
    "#         labels_list.append(labels.cpu().numpy())\n",
    "\n",
    "#         concatenated_pairs = torch.cat((anchor_out, rel_out), dim=-1)\n",
    "#         out_head = model_head(concatenated_pairs)\n",
    "\n",
    "#         pred_list.append((out_head >= 0).cpu().numpy())\n",
    "    \n",
    "#     preds = np.concatenate(pred_list)\n",
    "#     labels = np.concatenate(labels_list)\n",
    "#     val_acc = accuracy_score(labels, preds)\n",
    "#     val_prec = precision_score(labels, preds, zero_division=0)\n",
    "#     val_rec = recall_score(labels, preds, zero_division=0)\n",
    "#     val_f1 = f1_score(labels, preds, zero_division=0)\n",
    "\n",
    "# model.train()\n",
    "# model_head.train()\n",
    "\n",
    "# print(f\"Step: {step+1} - Triplet Loss: {running_loss[-1]:.4f}, CE Loss: {loss_head:.4f}\")\n",
    "# print(f\"\\tTrain Acc: {train_acc:.4f}, Train precision: {train_prec:.4f}, Train recall: {train_rec:.4f}, Train F1: {train_f1:.4f}\")\n",
    "# print(f\"\\tVal Acc: {val_acc:.4f}, Val precision: {val_prec:.4f}, Val recall: {val_rec:.4f}, Val F1: {val_f1:.4f}\")\n",
    "\n",
    "# if val_f1 > best_val_f1:\n",
    "#     best_val_f1 = val_f1\n",
    "#     torch.save(model.state_dict(), MODEL_SAVE_PATH)\n",
    "#     torch.save(model_head.state_dict(), MODEL_HEAD_SAVE_PATH)\n",
    "#     print('\\tSaving the model...')"
   ]
  },
  {
   "cell_type": "markdown",
   "metadata": {},
   "source": [
    "# Testing saved model (Inference)"
   ]
  },
  {
   "cell_type": "code",
   "execution_count": null,
   "metadata": {},
   "outputs": [
    {
     "data": {
      "text/plain": [
       "<All keys matched successfully>"
      ]
     },
     "execution_count": 43,
     "metadata": {},
     "output_type": "execute_result"
    }
   ],
   "source": [
    "model.load_state_dict(torch.load(MODEL_SAVE_PATH))\n",
    "model_head.load_state_dict(torch.load(MODEL_HEAD_SAVE_PATH))"
   ]
  },
  {
   "cell_type": "code",
   "execution_count": null,
   "metadata": {},
   "outputs": [
    {
     "data": {
      "text/plain": [
       "SiameseHead(\n",
       "  (dropout): Dropout(p=0.25, inplace=False)\n",
       "  (layers): Sequential(\n",
       "    (0): BatchNorm1d(512, eps=1e-05, momentum=0.1, affine=True, track_running_stats=True)\n",
       "    (1): Dropout(p=0.25, inplace=False)\n",
       "    (2): Linear(in_features=512, out_features=128, bias=True)\n",
       "    (3): ReLU()\n",
       "    (4): BatchNorm1d(128, eps=1e-05, momentum=0.1, affine=True, track_running_stats=True)\n",
       "    (5): Dropout(p=0.25, inplace=False)\n",
       "    (6): Linear(in_features=128, out_features=32, bias=True)\n",
       "    (7): ReLU()\n",
       "    (8): BatchNorm1d(32, eps=1e-05, momentum=0.1, affine=True, track_running_stats=True)\n",
       "    (9): Dropout(p=0.25, inplace=False)\n",
       "    (10): Linear(in_features=32, out_features=1, bias=True)\n",
       "  )\n",
       ")"
      ]
     },
     "execution_count": 44,
     "metadata": {},
     "output_type": "execute_result"
    }
   ],
   "source": [
    "model.eval()\n",
    "model_head.eval()"
   ]
  },
  {
   "cell_type": "code",
   "execution_count": null,
   "metadata": {},
   "outputs": [
    {
     "name": "stderr",
     "output_type": "stream",
     "text": [
      "  0%|          | 10/37720 [00:00<22:28, 27.96it/s]"
     ]
    },
    {
     "name": "stderr",
     "output_type": "stream",
     "text": [
      "100%|██████████| 37720/37720 [13:14<00:00, 47.47it/s]\n"
     ]
    }
   ],
   "source": [
    "labels = []\n",
    "probas = []\n",
    "with torch.no_grad():\n",
    "    for audio_1, audio_2, sr, label, _, _ in tqdm(test_dataset):\n",
    "        audio_1 = audio_1.to(DEVICE).unsqueeze(0)\n",
    "        audio_2 = audio_2.to(DEVICE).unsqueeze(0)\n",
    "        out_1 = model(audio_1)\n",
    "        out_2 = model(audio_2)\n",
    "        out_proba1 = torch.sigmoid(model_head(torch.cat((out_1, out_2), dim=-1)))\n",
    "        out_proba2 = torch.sigmoid(model_head(torch.cat((out_2, out_1), dim=-1)))\n",
    "        labels.append(label)\n",
    "        probas.append(((out_proba1 + out_proba2)/2).cpu().numpy())"
   ]
  },
  {
   "cell_type": "code",
   "execution_count": null,
   "metadata": {},
   "outputs": [],
   "source": [
    "y_pred = np.concatenate(probas)\n",
    "y_true = np.array(labels)"
   ]
  },
  {
   "cell_type": "markdown",
   "metadata": {},
   "source": [
    "## Test metrics"
   ]
  },
  {
   "cell_type": "code",
   "execution_count": null,
   "metadata": {},
   "outputs": [],
   "source": [
    "fpr, tpr, _ = roc_curve(y_true, y_pred.reshape((-1)))"
   ]
  },
  {
   "cell_type": "code",
   "execution_count": null,
   "metadata": {},
   "outputs": [
    {
     "data": {
      "image/png": "[encoded data removed]",
      "text/plain": [
       "<Figure size 640x480 with 1 Axes>"
      ]
     },
     "metadata": {},
     "output_type": "display_data"
    }
   ],
   "source": [
    "plt.figure()\n",
    "lw = 2\n",
    "plt.plot(\n",
    "    fpr,\n",
    "    tpr,\n",
    "    color=\"darkorange\",\n",
    "    label=f'ROC AUC is {roc_auc_score(y_true, y_pred.reshape((-1))):.4f}',\n",
    "    lw=lw\n",
    ")\n",
    "plt.plot([0, 1], [0, 1], color=\"navy\", lw=lw, linestyle=\"--\")\n",
    "plt.xlim([0.0, 1.0])\n",
    "plt.ylim([0.0, 1.0])\n",
    "plt.xlabel(\"False Positive Rate\")\n",
    "plt.ylabel(\"True Positive Rate\")\n",
    "plt.title(\"Receiver operating characteristic of the model+model_head\")\n",
    "plt.legend(loc=\"lower right\")\n",
    "plt.show()"
   ]
  },
  {
   "cell_type": "code",
   "execution_count": null,
   "metadata": {},
   "outputs": [],
   "source": [
    "THRESH = 0.5"
   ]
  },
  {
   "cell_type": "code",
   "execution_count": null,
   "metadata": {},
   "outputs": [
    {
     "data": {
      "text/plain": [
       "0.7945387062566278"
      ]
     },
     "execution_count": 50,
     "metadata": {},
     "output_type": "execute_result"
    }
   ],
   "source": [
    "accuracy_score(y_true, y_pred >= THRESH)"
   ]
  },
  {
   "cell_type": "code",
   "execution_count": null,
   "metadata": {},
   "outputs": [
    {
     "data": {
      "text/plain": [
       "(0.7497255053930116, 0.9588633735337849, 0.6154825026511135)"
      ]
     },
     "execution_count": 51,
     "metadata": {},
     "output_type": "execute_result"
    }
   ],
   "source": [
    "f1_score(y_true, y_pred >= THRESH), precision_score(y_true, y_pred >= THRESH), recall_score(y_true, y_pred >= THRESH)"
   ]
  },
  {
   "cell_type": "code",
   "execution_count": null,
   "metadata": {},
   "outputs": [
    {
     "data": {
      "image/png": "[encoded data removed]",
      "text/plain": [
       "<Figure size 640x480 with 2 Axes>"
      ]
     },
     "metadata": {},
     "output_type": "display_data"
    }
   ],
   "source": [
    "disp = ConfusionMatrixDisplay(confusion_matrix(y_true, y_pred >= THRESH))\n",
    "disp.plot()\n",
    "plt.show()"
   ]
  },
  {
   "cell_type": "markdown",
   "metadata": {},
   "source": [
    "Clearing GPUs"
   ]
  },
  {
   "cell_type": "code",
   "execution_count": 53,
   "metadata": {},
   "outputs": [],
   "source": [
    "del model\n",
    "del model_head"
   ]
  },
  {
   "cell_type": "code",
   "execution_count": 54,
   "metadata": {},
   "outputs": [],
   "source": [
    "gc.collect()\n",
    "empty_cache()"
   ]
  },
  {
   "cell_type": "markdown",
   "metadata": {},
   "source": [
    "Add:\n",
    "- [x] Checkpoints\n",
    "- [x] Augmentations\n",
    "- [?] Use better models\n",
    "- [x] Online triplet loss"
   ]
  }
 ],
 "metadata": {
  "kernelspec": {
   "display_name": ".venv",
   "language": "python",
   "name": "python3"
  },
  "language_info": {
   "codemirror_mode": {
    "name": "ipython",
    "version": 3
   },
   "file_extension": ".py",
   "mimetype": "text/x-python",
   "name": "python",
   "nbconvert_exporter": "python",
   "pygments_lexer": "ipython3",
   "version": "3.10.12"
  }
 },
 "nbformat": 4,
 "nbformat_minor": 2
}
